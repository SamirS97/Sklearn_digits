{
 "cells": [
  {
   "cell_type": "markdown",
   "metadata": {},
   "source": [
    "# SF 2357 project part III : Convolutional Neural Network Classification"
   ]
  },
  {
   "cell_type": "markdown",
   "metadata": {},
   "source": [
    "Let's first import all the needed packages and functions :  \n",
    "\n",
    "- [numpy] is the fundamental package for scientific computing with Python.\n",
    "- [pandas] library providing high-performance data structures and data analysis.\n",
    "- [matplotlib] is a library to plot graphs in Python.\n",
    "- [seaborn] data visualization library based on matplotlib.\n",
    "- [sklearn] fundamental Machine Learning library in Python.  \n",
    "\n",
    "\n",
    "For Deep learning :\n",
    "- [keras] Keras is a high-level neural networks API, written in Python, we will use it with the Tensorflow backend."
   ]
  },
  {
   "cell_type": "code",
   "execution_count": 1,
   "metadata": {},
   "outputs": [
    {
     "name": "stderr",
     "output_type": "stream",
     "text": [
      "Using TensorFlow backend.\n"
     ]
    }
   ],
   "source": [
    "import numpy as np\n",
    "import pandas as pd\n",
    "import matplotlib.pyplot as plt\n",
    "import seaborn as sns\n",
    "from sklearn import datasets\n",
    "from sklearn.model_selection import train_test_split\n",
    "import tensorflow as tf\n",
    "import keras\n",
    "from keras.datasets import mnist\n",
    "from keras.utils import to_categorical\n",
    "from keras.layers import Input, Dense, Conv2D, MaxPool2D\n",
    "from keras.layers import Flatten, Activation, BatchNormalization, Dropout\n",
    "from keras.models import Model, Sequential\n",
    "from keras import backend as K\n",
    "import warnings\n",
    "warnings.simplefilter(action='ignore', category=FutureWarning)\n",
    "%matplotlib inline\n",
    "sns.set(style='white', context='notebook', palette='deep')"
   ]
  },
  {
   "cell_type": "markdown",
   "metadata": {},
   "source": [
    "## 1 - Description of the data & motivation"
   ]
  },
  {
   "cell_type": "markdown",
   "metadata": {},
   "source": [
    "Data set + goals"
   ]
  },
  {
   "cell_type": "code",
   "execution_count": 2,
   "metadata": {},
   "outputs": [],
   "source": [
    "data, labels = datasets.load_digits(return_X_y=True)"
   ]
  },
  {
   "cell_type": "code",
   "execution_count": 3,
   "metadata": {},
   "outputs": [],
   "source": [
    "#Convert the data to pandas dataframe for convenience (visualization)\n",
    "data = pd.DataFrame(data)\n",
    "labels = pd.DataFrame(labels)"
   ]
  },
  {
   "cell_type": "code",
   "execution_count": 4,
   "metadata": {},
   "outputs": [
    {
     "data": {
      "text/plain": [
       "(1797, 64)"
      ]
     },
     "execution_count": 4,
     "metadata": {},
     "output_type": "execute_result"
    }
   ],
   "source": [
    "data.shape"
   ]
  },
  {
   "cell_type": "code",
   "execution_count": 5,
   "metadata": {},
   "outputs": [
    {
     "data": {
      "text/plain": [
       "(1797, 1)"
      ]
     },
     "execution_count": 5,
     "metadata": {},
     "output_type": "execute_result"
    }
   ],
   "source": [
    "labels.shape"
   ]
  },
  {
   "cell_type": "code",
   "execution_count": 6,
   "metadata": {},
   "outputs": [
    {
     "data": {
      "text/plain": [
       "False"
      ]
     },
     "execution_count": 6,
     "metadata": {},
     "output_type": "execute_result"
    }
   ],
   "source": [
    "# Check if there are any missing values\n",
    "data.isna().values.any()"
   ]
  },
  {
   "cell_type": "markdown",
   "metadata": {},
   "source": [
    "Let's visualize some data samples:"
   ]
  },
  {
   "cell_type": "code",
   "execution_count": 7,
   "metadata": {},
   "outputs": [],
   "source": [
    "def plot_samples(data, labels):\n",
    "    \"\"\"\n",
    "    This function plots 9 randomly selected data samples.\n",
    "    \n",
    "    Arguments:\n",
    "    data -- Pandas DataFram with the images\n",
    "    labels -- The corresponding labels\n",
    "    \n",
    "    Returns:\n",
    "    None\n",
    "    \"\"\"\n",
    "    indices = np.random.randint(0, data.shape[0], size=9)\n",
    "    for i,j in zip(indices, range(9)):\n",
    "        plt.subplot(3,3,j+1)\n",
    "        plt.xticks([])\n",
    "        plt.yticks([])\n",
    "        plt.imshow(np.array(data)[i,:].reshape(8,8))\n",
    "        plt.xlabel(np.array(labels)[i])"
   ]
  },
  {
   "cell_type": "code",
   "execution_count": 8,
   "metadata": {},
   "outputs": [
    {
     "data": {
      "image/png": "[encoded data removed]",
      "text/plain": [
       "<Figure size 432x288 with 9 Axes>"
      ]
     },
     "metadata": {},
     "output_type": "display_data"
    }
   ],
   "source": [
    "plot_samples(data, labels)"
   ]
  },
  {
   "cell_type": "code",
   "execution_count": 9,
   "metadata": {},
   "outputs": [
    {
     "data": {
      "image/png": "[encoded data removed]",
      "text/plain": [
       "<Figure size 432x288 with 1 Axes>"
      ]
     },
     "metadata": {
      "needs_background": "light"
     },
     "output_type": "display_data"
    }
   ],
   "source": [
    "# Visualize label distribution\n",
    "labels.hist()\n",
    "plt.title(\"Labels distribution\")\n",
    "plt.show()"
   ]
  },
  {
   "cell_type": "markdown",
   "metadata": {},
   "source": [
    "We can see that the labels are uniformly distributed."
   ]
  },
  {
   "cell_type": "markdown",
   "metadata": {},
   "source": [
    "## 2 - Data preprocessing"
   ]
  },
  {
   "cell_type": "markdown",
   "metadata": {},
   "source": [
    "Now let's split the data into a train and validation set."
   ]
  },
  {
   "cell_type": "code",
   "execution_count": 10,
   "metadata": {},
   "outputs": [],
   "source": [
    "X_train_origin, X_val_origin, y_train_origin, y_val_origin = train_test_split(data, labels, test_size=0.20)"
   ]
  },
  {
   "cell_type": "code",
   "execution_count": 11,
   "metadata": {},
   "outputs": [
    {
     "data": {
      "text/plain": [
       "array([[<matplotlib.axes._subplots.AxesSubplot object at 0x1393a5990>]],\n",
       "      dtype=object)"
      ]
     },
     "execution_count": 11,
     "metadata": {},
     "output_type": "execute_result"
    },
    {
     "data": {
      "image/png": "[encoded data removed]",
      "text/plain": [
       "<Figure size 432x288 with 1 Axes>"
      ]
     },
     "metadata": {
      "needs_background": "light"
     },
     "output_type": "display_data"
    }
   ],
   "source": [
    "y_train_origin.hist()"
   ]
  },
  {
   "cell_type": "code",
   "execution_count": 12,
   "metadata": {},
   "outputs": [
    {
     "data": {
      "text/plain": [
       "array([[<matplotlib.axes._subplots.AxesSubplot object at 0x13b983dd0>]],\n",
       "      dtype=object)"
      ]
     },
     "execution_count": 12,
     "metadata": {},
     "output_type": "execute_result"
    },
    {
     "data": {
      "image/png": "[encoded data removed]",
      "text/plain": [
       "<Figure size 432x288 with 1 Axes>"
      ]
     },
     "metadata": {
      "needs_background": "light"
     },
     "output_type": "display_data"
    }
   ],
   "source": [
    "y_val_origin.hist()"
   ]
  },
  {
   "cell_type": "markdown",
   "metadata": {},
   "source": [
    "Our train and validation set are well balanced."
   ]
  },
  {
   "cell_type": "code",
   "execution_count": 13,
   "metadata": {},
   "outputs": [],
   "source": [
    "#We reshape and normalize the data\n",
    "X_train = np.array(X_train_origin).reshape(X_train_origin.shape[0], 8, 8)\n",
    "X_val = np.array(X_val_origin).reshape(X_val_origin.shape[0], 8, 8)\n",
    "\n",
    "X_train /= 255\n",
    "X_val /= 255\n",
    "\n",
    "#Add new axis to be able to feed it to the CNN\n",
    "X_train = X_train[:,:,:,np.newaxis]\n",
    "X_val = X_val[:,:,:,np.newaxis]"
   ]
  },
  {
   "cell_type": "code",
   "execution_count": 14,
   "metadata": {},
   "outputs": [
    {
     "data": {
      "text/plain": [
       "(1437, 8, 8, 1)"
      ]
     },
     "execution_count": 14,
     "metadata": {},
     "output_type": "execute_result"
    }
   ],
   "source": [
    "X_train.shape"
   ]
  },
  {
   "cell_type": "code",
   "execution_count": 15,
   "metadata": {},
   "outputs": [],
   "source": [
    "#One-hot encoding of the labels\n",
    "y_train = to_categorical(y_train_origin)\n",
    "y_val = to_categorical(y_val_origin)"
   ]
  },
  {
   "cell_type": "markdown",
   "metadata": {},
   "source": [
    "## 3 - Building our model"
   ]
  },
  {
   "cell_type": "markdown",
   "metadata": {},
   "source": [
    "CNNs are meant to extract hierarchical features in the data.\n",
    "The building blocks of a CNN are blocks of 'convolutional layer + pooling layer' one after the other.  \n",
    "\n",
    "Usually the first layers are meant to extract low-level features as edges.  \n",
    "The mid layers are meant to extract mid-level features as shapes.  \n",
    "The last layers are meant to extract high-level features as objects.\n"
   ]
  },
  {
   "cell_type": "code",
   "execution_count": 16,
   "metadata": {},
   "outputs": [],
   "source": [
    "#build model\n",
    "def build_model():\n",
    "    \"\"\"\n",
    "    \"\"\"\n",
    "    input_layer = Input(shape=(8,8,1))\n",
    "    #First block\n",
    "    conv_1 = Conv2D(32, 3,strides=(1, 1), padding='same',activation = 'relu')(input_layer)\n",
    "    batch_norm_1 = BatchNormalization(axis = 3)(conv_1)\n",
    "    max_pool_1 = MaxPool2D(pool_size= (2,2))(batch_norm_1)\n",
    "    dropout_1 = Dropout(0.25)(max_pool_1)\n",
    "    \n",
    "    #Second block\n",
    "    #conv_2 = Conv2D(32, 3,strides=(1, 1), padding='same',activation = 'relu')(dropout_1)\n",
    "    #batch_norm_2 = BatchNormalization(axis = 3)(conv_2)\n",
    "    #max_pool_2 = MaxPool2D(pool_size= (2,2))(batch_norm_2)\n",
    "    #dropout_2 = Dropout(0.25)(max_pool_2)\n",
    "    \n",
    "    #Third block\n",
    "    #conv_3 = Conv2D(32, 3,strides=(1, 1), padding='same',activation = 'relu')(dropout_2)\n",
    "    #batch_norm_3 = BatchNormalization(axis = 3)(conv_3)\n",
    "    #max_pool_3 = MaxPool2D(pool_size= (2,2))(batch_norm_3)\n",
    "    #dropout_3 = Dropout(0.25)(max_pool_3)\n",
    "    \n",
    "    #Output block\n",
    "    flatten_layer = Flatten()(dropout_1)\n",
    "    output_layer = Dense(10,activation='softmax')(flatten_layer)\n",
    "    \n",
    "    model = Model(input_layer,output_layer)\n",
    "    model.compile(optimizer = 'adam', loss = 'categorical_crossentropy', metrics = ['accuracy'])\n",
    "    return model"
   ]
  },
  {
   "cell_type": "code",
   "execution_count": 17,
   "metadata": {},
   "outputs": [],
   "source": [
    "model = build_model()"
   ]
  },
  {
   "cell_type": "code",
   "execution_count": 18,
   "metadata": {},
   "outputs": [
    {
     "name": "stdout",
     "output_type": "stream",
     "text": [
      "Model: \"model_1\"\n",
      "_________________________________________________________________\n",
      "Layer (type)                 Output Shape              Param #   \n",
      "=================================================================\n",
      "input_1 (InputLayer)         (None, 8, 8, 1)           0         \n",
      "_________________________________________________________________\n",
      "conv2d_1 (Conv2D)            (None, 8, 8, 32)          320       \n",
      "_________________________________________________________________\n",
      "batch_normalization_1 (Batch (None, 8, 8, 32)          128       \n",
      "_________________________________________________________________\n",
      "max_pooling2d_1 (MaxPooling2 (None, 4, 4, 32)          0         \n",
      "_________________________________________________________________\n",
      "dropout_1 (Dropout)          (None, 4, 4, 32)          0         \n",
      "_________________________________________________________________\n",
      "flatten_1 (Flatten)          (None, 512)               0         \n",
      "_________________________________________________________________\n",
      "dense_1 (Dense)              (None, 10)                5130      \n",
      "=================================================================\n",
      "Total params: 5,578\n",
      "Trainable params: 5,514\n",
      "Non-trainable params: 64\n",
      "_________________________________________________________________\n"
     ]
    }
   ],
   "source": [
    "model.summary()"
   ]
  },
  {
   "cell_type": "code",
   "execution_count": 19,
   "metadata": {
    "scrolled": true
   },
   "outputs": [
    {
     "name": "stdout",
     "output_type": "stream",
     "text": [
      "Train on 1437 samples, validate on 360 samples\n",
      "Epoch 1/50\n",
      "1437/1437 [==============================] - 1s 767us/step - loss: 2.0079 - accuracy: 0.4955 - val_loss: 2.2734 - val_accuracy: 0.5361\n",
      "Epoch 2/50\n",
      "1437/1437 [==============================] - 0s 213us/step - loss: 1.2008 - accuracy: 0.8392 - val_loss: 2.1907 - val_accuracy: 0.7889\n",
      "Epoch 3/50\n",
      "1437/1437 [==============================] - 0s 308us/step - loss: 0.5984 - accuracy: 0.8942 - val_loss: 2.0737 - val_accuracy: 0.8611\n",
      "Epoch 4/50\n",
      "1437/1437 [==============================] - 0s 252us/step - loss: 0.3803 - accuracy: 0.9172 - val_loss: 1.9426 - val_accuracy: 0.9222\n",
      "Epoch 5/50\n",
      "1437/1437 [==============================] - 0s 221us/step - loss: 0.2861 - accuracy: 0.9311 - val_loss: 1.7993 - val_accuracy: 0.9222\n",
      "Epoch 6/50\n",
      "1437/1437 [==============================] - 0s 195us/step - loss: 0.2350 - accuracy: 0.9408 - val_loss: 1.6168 - val_accuracy: 0.9472\n",
      "Epoch 7/50\n",
      "1437/1437 [==============================] - 0s 199us/step - loss: 0.1956 - accuracy: 0.9527 - val_loss: 1.4197 - val_accuracy: 0.9417\n",
      "Epoch 8/50\n",
      "1437/1437 [==============================] - 0s 158us/step - loss: 0.1693 - accuracy: 0.9569 - val_loss: 1.1994 - val_accuracy: 0.9500\n",
      "Epoch 9/50\n",
      "1437/1437 [==============================] - 0s 155us/step - loss: 0.1436 - accuracy: 0.9673 - val_loss: 0.9473 - val_accuracy: 0.9667\n",
      "Epoch 10/50\n",
      "1437/1437 [==============================] - 0s 158us/step - loss: 0.1346 - accuracy: 0.9680 - val_loss: 0.7429 - val_accuracy: 0.9500\n",
      "Epoch 11/50\n",
      "1437/1437 [==============================] - 0s 156us/step - loss: 0.1239 - accuracy: 0.9701 - val_loss: 0.5213 - val_accuracy: 0.9639\n",
      "Epoch 12/50\n",
      "1437/1437 [==============================] - 0s 158us/step - loss: 0.1164 - accuracy: 0.9694 - val_loss: 0.3769 - val_accuracy: 0.9639\n",
      "Epoch 13/50\n",
      "1437/1437 [==============================] - 0s 156us/step - loss: 0.1045 - accuracy: 0.9736 - val_loss: 0.2718 - val_accuracy: 0.9639\n",
      "Epoch 14/50\n",
      "1437/1437 [==============================] - 0s 161us/step - loss: 0.0916 - accuracy: 0.9763 - val_loss: 0.2047 - val_accuracy: 0.9667\n",
      "Epoch 15/50\n",
      "1437/1437 [==============================] - 0s 155us/step - loss: 0.0866 - accuracy: 0.9749 - val_loss: 0.1584 - val_accuracy: 0.9639\n",
      "Epoch 16/50\n",
      "1437/1437 [==============================] - 0s 158us/step - loss: 0.0775 - accuracy: 0.9833 - val_loss: 0.1334 - val_accuracy: 0.9694\n",
      "Epoch 17/50\n",
      "1437/1437 [==============================] - 0s 160us/step - loss: 0.0753 - accuracy: 0.9854 - val_loss: 0.1153 - val_accuracy: 0.9722\n",
      "Epoch 18/50\n",
      "1437/1437 [==============================] - 0s 158us/step - loss: 0.0809 - accuracy: 0.9763 - val_loss: 0.1181 - val_accuracy: 0.9667\n",
      "Epoch 19/50\n",
      "1437/1437 [==============================] - 0s 158us/step - loss: 0.0702 - accuracy: 0.9826 - val_loss: 0.0998 - val_accuracy: 0.9722\n",
      "Epoch 20/50\n",
      "1437/1437 [==============================] - 0s 172us/step - loss: 0.0630 - accuracy: 0.9847 - val_loss: 0.0965 - val_accuracy: 0.9694\n",
      "Epoch 21/50\n",
      "1437/1437 [==============================] - 0s 155us/step - loss: 0.0603 - accuracy: 0.9861 - val_loss: 0.0849 - val_accuracy: 0.9750\n",
      "Epoch 22/50\n",
      "1437/1437 [==============================] - 0s 160us/step - loss: 0.0562 - accuracy: 0.9882 - val_loss: 0.0892 - val_accuracy: 0.9778\n",
      "Epoch 23/50\n",
      "1437/1437 [==============================] - 0s 161us/step - loss: 0.0524 - accuracy: 0.9896 - val_loss: 0.0873 - val_accuracy: 0.9778\n",
      "Epoch 24/50\n",
      "1437/1437 [==============================] - 0s 161us/step - loss: 0.0522 - accuracy: 0.9868 - val_loss: 0.0823 - val_accuracy: 0.9778\n",
      "Epoch 25/50\n",
      "1437/1437 [==============================] - 0s 162us/step - loss: 0.0520 - accuracy: 0.9861 - val_loss: 0.0779 - val_accuracy: 0.9806\n",
      "Epoch 26/50\n",
      "1437/1437 [==============================] - 0s 162us/step - loss: 0.0461 - accuracy: 0.9875 - val_loss: 0.0806 - val_accuracy: 0.9778\n",
      "Epoch 27/50\n",
      "1437/1437 [==============================] - 0s 159us/step - loss: 0.0426 - accuracy: 0.9910 - val_loss: 0.1021 - val_accuracy: 0.9611\n",
      "Epoch 28/50\n",
      "1437/1437 [==============================] - 0s 171us/step - loss: 0.0440 - accuracy: 0.9889 - val_loss: 0.0715 - val_accuracy: 0.9806\n",
      "Epoch 29/50\n",
      "1437/1437 [==============================] - 0s 163us/step - loss: 0.0383 - accuracy: 0.9903 - val_loss: 0.0787 - val_accuracy: 0.9722\n",
      "Epoch 30/50\n",
      "1437/1437 [==============================] - 0s 160us/step - loss: 0.0440 - accuracy: 0.9882 - val_loss: 0.0744 - val_accuracy: 0.9778\n",
      "Epoch 31/50\n",
      "1437/1437 [==============================] - 0s 171us/step - loss: 0.0358 - accuracy: 0.9923 - val_loss: 0.0708 - val_accuracy: 0.9778\n",
      "Epoch 32/50\n",
      "1437/1437 [==============================] - 0s 161us/step - loss: 0.0436 - accuracy: 0.9889 - val_loss: 0.0775 - val_accuracy: 0.9750\n",
      "Epoch 33/50\n",
      "1437/1437 [==============================] - 0s 160us/step - loss: 0.0322 - accuracy: 0.9923 - val_loss: 0.0698 - val_accuracy: 0.9806\n",
      "Epoch 34/50\n",
      "1437/1437 [==============================] - 0s 159us/step - loss: 0.0300 - accuracy: 0.9937 - val_loss: 0.0658 - val_accuracy: 0.9806\n",
      "Epoch 35/50\n",
      "1437/1437 [==============================] - 0s 160us/step - loss: 0.0329 - accuracy: 0.9923 - val_loss: 0.0624 - val_accuracy: 0.9778\n",
      "Epoch 36/50\n",
      "1437/1437 [==============================] - 0s 161us/step - loss: 0.0269 - accuracy: 0.9951 - val_loss: 0.0571 - val_accuracy: 0.9806\n",
      "Epoch 37/50\n",
      "1437/1437 [==============================] - 0s 161us/step - loss: 0.0359 - accuracy: 0.9930 - val_loss: 0.0668 - val_accuracy: 0.9750\n",
      "Epoch 38/50\n",
      "1437/1437 [==============================] - 0s 160us/step - loss: 0.0274 - accuracy: 0.9930 - val_loss: 0.0703 - val_accuracy: 0.9806\n",
      "Epoch 39/50\n",
      "1437/1437 [==============================] - 0s 162us/step - loss: 0.0251 - accuracy: 0.9923 - val_loss: 0.0613 - val_accuracy: 0.9778\n",
      "Epoch 40/50\n",
      "1437/1437 [==============================] - 0s 180us/step - loss: 0.0288 - accuracy: 0.9937 - val_loss: 0.0686 - val_accuracy: 0.9750\n",
      "Epoch 41/50\n",
      "1437/1437 [==============================] - 0s 185us/step - loss: 0.0278 - accuracy: 0.9951 - val_loss: 0.0619 - val_accuracy: 0.9778\n",
      "Epoch 42/50\n",
      "1437/1437 [==============================] - 0s 184us/step - loss: 0.0275 - accuracy: 0.9916 - val_loss: 0.0591 - val_accuracy: 0.9778\n",
      "Epoch 43/50\n",
      "1437/1437 [==============================] - 0s 174us/step - loss: 0.0246 - accuracy: 0.9937 - val_loss: 0.0567 - val_accuracy: 0.9833\n",
      "Epoch 44/50\n",
      "1437/1437 [==============================] - 0s 183us/step - loss: 0.0287 - accuracy: 0.9944 - val_loss: 0.0605 - val_accuracy: 0.9778\n",
      "Epoch 45/50\n",
      "1437/1437 [==============================] - 0s 188us/step - loss: 0.0235 - accuracy: 0.9937 - val_loss: 0.0530 - val_accuracy: 0.9806\n",
      "Epoch 46/50\n",
      "1437/1437 [==============================] - 0s 173us/step - loss: 0.0197 - accuracy: 0.9958 - val_loss: 0.0544 - val_accuracy: 0.9806\n",
      "Epoch 47/50\n",
      "1437/1437 [==============================] - 0s 250us/step - loss: 0.0280 - accuracy: 0.9937 - val_loss: 0.0514 - val_accuracy: 0.9833\n",
      "Epoch 48/50\n",
      "1437/1437 [==============================] - 0s 154us/step - loss: 0.0187 - accuracy: 0.9972 - val_loss: 0.0530 - val_accuracy: 0.9806\n",
      "Epoch 49/50\n",
      "1437/1437 [==============================] - 0s 176us/step - loss: 0.0198 - accuracy: 0.9958 - val_loss: 0.0603 - val_accuracy: 0.9778\n",
      "Epoch 50/50\n",
      "1437/1437 [==============================] - 0s 192us/step - loss: 0.0196 - accuracy: 0.9951 - val_loss: 0.0628 - val_accuracy: 0.9778\n"
     ]
    }
   ],
   "source": [
    "history = model.fit(x = X_train, y = y_train, batch_size= 32, epochs=50, validation_data=(X_val,y_val))"
   ]
  },
  {
   "cell_type": "code",
   "execution_count": 20,
   "metadata": {},
   "outputs": [
    {
     "data": {
      "image/png": "[encoded data removed]",
      "text/plain": [
       "<Figure size 432x288 with 1 Axes>"
      ]
     },
     "metadata": {
      "needs_background": "light"
     },
     "output_type": "display_data"
    }
   ],
   "source": [
    "# summarize history for loss\n",
    "plt.plot(history.history['loss'])\n",
    "plt.plot(history.history['val_loss'])\n",
    "plt.title('model loss')\n",
    "plt.ylabel('loss')\n",
    "plt.xlabel('epoch')\n",
    "plt.legend(['Train', 'Validation'], loc='upper right')\n",
    "plt.show()"
   ]
  },
  {
   "cell_type": "code",
   "execution_count": 21,
   "metadata": {},
   "outputs": [
    {
     "data": {
      "image/png": "[encoded data removed]",
      "text/plain": [
       "<Figure size 432x288 with 1 Axes>"
      ]
     },
     "metadata": {
      "needs_background": "light"
     },
     "output_type": "display_data"
    }
   ],
   "source": [
    "# Plot training & validation accuracy values\n",
    "plt.plot(history.history['accuracy'])\n",
    "plt.plot(history.history['val_accuracy'])\n",
    "plt.title('Model accuracy')\n",
    "plt.ylabel('Accuracy')\n",
    "plt.xlabel('Epoch')\n",
    "plt.legend(['Train', 'Validation'], loc='upper left')\n",
    "plt.show()"
   ]
  },
  {
   "cell_type": "code",
   "execution_count": 22,
   "metadata": {},
   "outputs": [
    {
     "name": "stdout",
     "output_type": "stream",
     "text": [
      "360/360 [==============================] - 0s 204us/step\n",
      "val loss, val acc: [0.06280733714811504, 0.9777777791023254]\n"
     ]
    }
   ],
   "source": [
    "results_val = model.evaluate(X_val, y_val, batch_size=32)\n",
    "print('val loss, val acc:', results_val)"
   ]
  },
  {
   "cell_type": "code",
   "execution_count": 23,
   "metadata": {},
   "outputs": [
    {
     "name": "stdout",
     "output_type": "stream",
     "text": [
      "1437/1437 [==============================] - 0s 101us/step\n",
      "train loss, train acc: [0.008120447038993676, 0.9993041157722473]\n"
     ]
    }
   ],
   "source": [
    "results_train = model.evaluate(X_train, y_train, batch_size=32)\n",
    "print('train loss, train acc:', results_train)"
   ]
  },
  {
   "cell_type": "markdown",
   "metadata": {},
   "source": [
    "The goal was to use the smallest number of parameters without sacrificing performance"
   ]
  }
 ],
 "metadata": {
  "kernelspec": {
   "display_name": "Python 3",
   "language": "python",
   "name": "python3"
  },
  "language_info": {
   "codemirror_mode": {
    "name": "ipython",
    "version": 3
   },
   "file_extension": ".py",
   "mimetype": "text/x-python",
   "name": "python",
   "nbconvert_exporter": "python",
   "pygments_lexer": "ipython3",
   "version": "3.7.4"
  }
 },
 "nbformat": 4,
 "nbformat_minor": 2
}
